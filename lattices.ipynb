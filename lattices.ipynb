{
 "cells": [
  {
   "cell_type": "markdown",
   "metadata": {},
   "source": [
    "# LazyFCA\n",
    "\n",
    "Домашнее задание по теории решеток\n",
    "\n",
    "Датасет tik-tak-toe\n",
    "\n",
    "Андрей Упшинский, М05-895в"
   ]
  },
  {
   "cell_type": "markdown",
   "metadata": {},
   "source": [
    "# Описание\n",
    "\n",
    "Для оценки качества используется KFold (разбиение уже сделано в источнике датасета)"
   ]
  },
  {
   "cell_type": "markdown",
   "metadata": {},
   "source": [
    "Сначала преобразуем признаки в бинарные, используя OneHotEncoding"
   ]
  },
  {
   "cell_type": "code",
   "execution_count": 64,
   "metadata": {},
   "outputs": [],
   "source": [
    "import pandas as pd\n",
    "import numpy as np\n",
    "from sklearn.metrics import accuracy_score, precision_score, recall_score, f1_score\n",
    "from sklearn.preprocessing import OneHotEncoder\n",
    "\n",
    "\n",
    "def preprocess(data):\n",
    "    y = (data.V10 == 'positive')\n",
    "    \n",
    "    encoder = OneHotEncoder(dtype='bool')\n",
    "    X = encoder.fit_transform(data[['V{}'.format(i) for i in range(1, 10)]]).toarray()\n",
    "    \n",
    "    return X, y\n",
    "\n",
    "\n",
    "def read_sample(path):\n",
    "    data = pd.read_csv(path)\n",
    "    return preprocess(data)"
   ]
  },
  {
   "cell_type": "markdown",
   "metadata": {},
   "source": [
    "Попробуем стандартные методы классификации из sklearn (`LogisticRegression`, `RandomForestClassifier`) и `XGBClassifier`"
   ]
  },
  {
   "cell_type": "code",
   "execution_count": 90,
   "metadata": {},
   "outputs": [],
   "source": [
    "def test_model(model, folds):\n",
    "    accuracy, precision, recall = [], [], []\n",
    "    \n",
    "    for X_train, X_test, y_train, y_test in folds:\n",
    "        model.fit(X_train, y_train)\n",
    "        y = model.predict(X_test)\n",
    "        \n",
    "        accuracy.append(accuracy_score(y_test, y))\n",
    "        precision.append(precision_score(y_test, y))\n",
    "        recall.append(recall_score(y_test, y))\n",
    "    \n",
    "    return accuracy, precision, recall"
   ]
  },
  {
   "cell_type": "code",
   "execution_count": 91,
   "metadata": {},
   "outputs": [],
   "source": [
    "folds = []\n",
    "\n",
    "for i in range(1, 11):\n",
    "    train_path = 'data/train{}.csv'.format(i)\n",
    "    test_path = 'data/test{}.csv'.format(i)\n",
    "    \n",
    "    X_train, y_train = read_sample(train_path)\n",
    "    X_test, y_test = read_sample(test_path)\n",
    "    folds.append((X_train, X_test, y_train, y_test))"
   ]
  },
  {
   "cell_type": "code",
   "execution_count": 109,
   "metadata": {},
   "outputs": [
    {
     "name": "stdout",
     "output_type": "stream",
     "text": [
      "precision: 0.975\n",
      "recall: 1.000\n",
      "accuracy: 0.983\n"
     ]
    }
   ],
   "source": [
    "from sklearn.linear_model import LogisticRegression\n",
    "\n",
    "\n",
    "accuracy, precision, recall = test_model(LogisticRegression(solver='lbfgs'), folds)\n",
    "print(\"precision:\", format(np.mean(precision), '.3f'))\n",
    "print(\"recall:\", format(np.mean(recall), '.3f'))\n",
    "print(\"accuracy:\", format(np.mean(accuracy), '.3f'))"
   ]
  },
  {
   "cell_type": "code",
   "execution_count": 110,
   "metadata": {},
   "outputs": [
    {
     "name": "stdout",
     "output_type": "stream",
     "text": [
      "precision: 0.987\n",
      "recall: 0.997\n",
      "accuracy: 0.990\n"
     ]
    }
   ],
   "source": [
    "from sklearn.ensemble import RandomForestClassifier\n",
    "\n",
    "\n",
    "accuracy, precision, recall = test_model(RandomForestClassifier(n_estimators=100, random_state=501), \n",
    "                                         folds)\n",
    "print(\"precision:\", format(np.mean(precision), '.3f'))\n",
    "print(\"recall:\", format(np.mean(recall), '.3f'))\n",
    "print(\"accuracy:\", format(np.mean(accuracy), '.3f'))"
   ]
  },
  {
   "cell_type": "code",
   "execution_count": 111,
   "metadata": {},
   "outputs": [
    {
     "name": "stdout",
     "output_type": "stream",
     "text": [
      "precision: 0.984\n",
      "recall: 0.995\n",
      "accuracy: 0.986\n"
     ]
    }
   ],
   "source": [
    "from xgboost import XGBClassifier\n",
    "\n",
    "accuracy, precision, recall = test_model(XGBClassifier(max_depth=5), folds)\n",
    "print(\"precision:\", format(np.mean(precision), '.3f'))\n",
    "print(\"recall:\", format(np.mean(recall), '.3f'))\n",
    "print(\"accuracy:\", format(np.mean(accuracy), '.3f'))"
   ]
  },
  {
   "cell_type": "markdown",
   "metadata": {},
   "source": [
    "Выглядит крайне многообещающе, лучшая точность - $0.99$ у `RandomForestClassifier`. \n",
    "\n",
    "Попробуем хотя бы приблизиться. Будем извлекать признаки на основе генераторов, потом предсказывать по ним с помощью `RandomForestClassifier` ответ\n",
    "\n",
    "Признаки:\n",
    "средние $|g'\\cap g_i^+|$, $|g'\\cap g_i^-|$,\n",
    "        $|(g'\\cap g_i^+)^+|$, $|(g'\\cap g_i^+)^-|$, $|(g'\\cap g_i^-)^-|$, $|(g'\\cap g_i^-)^+|$"
   ]
  },
  {
   "cell_type": "code",
   "execution_count": 179,
   "metadata": {},
   "outputs": [],
   "source": [
    "from sklearn.ensemble import RandomForestClassifier\n",
    "from sklearn.model_selection import train_test_split\n",
    "\n",
    "\n",
    "def context_split(X, y):\n",
    "    return X[y], X[~y]\n",
    "\n",
    "\n",
    "def avg_intersect(sample, context):\n",
    "    return np.sum(context & sample) / len(context)\n",
    "\n",
    "\n",
    "def avg_clojure(sample, context, context_clojure):\n",
    "    intersect = context & sample\n",
    "    return np.array([(np.sum(context_clojure & inters, axis=1) == np.sum(inters)).sum() \n",
    "                     for inters in intersect]).mean()\n",
    "\n",
    "\n",
    "class Classifier:\n",
    "    def __init__(self, classifier, classifier_train_part=0.5, random_state=None):\n",
    "        self.random_state = random_state\n",
    "        self.classifier = classifier\n",
    "        self.classifier_train_part = classifier_train_part\n",
    "    \n",
    "    def get_features(self, X):\n",
    "        features = []\n",
    "        \n",
    "        for x in X:\n",
    "            features.append((avg_intersect(x, self.positive), \n",
    "                             avg_intersect(x, self.negative), \n",
    "                             avg_clojure(x, self.positive, self.negative),\n",
    "                             avg_clojure(x, self.positive, self.positive),\n",
    "                             avg_clojure(x, self.negative, self.positive), \n",
    "                             avg_clojure(x, self.negative, self.negative)))\n",
    "        \n",
    "        return np.array(features)\n",
    "    \n",
    "    def fit(self, X, y):\n",
    "        X_true, X_train, y_true, y_train = train_test_split(X, y, \n",
    "                                                            test_size=self.classifier_train_part, \n",
    "                                                            random_state=self.random_state)\n",
    "        \n",
    "        self.positive, self.negative = context_split(X_true, y_true)\n",
    "        \n",
    "        features = self.get_features(X_train)\n",
    "        self.classifier.fit(features, y_train)\n",
    "    \n",
    "    def predict(self, X):\n",
    "        features = self.get_features(X)\n",
    "        return self.classifier.predict(features)"
   ]
  },
  {
   "cell_type": "code",
   "execution_count": 180,
   "metadata": {},
   "outputs": [
    {
     "name": "stdout",
     "output_type": "stream",
     "text": [
      "precision: 0.907\n",
      "recall: 0.974\n",
      "accuracy: 0.917\n"
     ]
    }
   ],
   "source": [
    "accuracy, precision, recall = test_model(Classifier(random_state=501, \n",
    "                                                    classifier=XGBClassifier(n_estimators=100, \n",
    "                                                                             max_depth=5), \n",
    "                                                    classifier_train_part=0.2), folds)\n",
    "print(\"precision:\", format(np.mean(precision), '.3f'))\n",
    "print(\"recall:\", format(np.mean(recall), '.3f'))\n",
    "print(\"accuracy:\", format(np.mean(accuracy), '.3f'))"
   ]
  },
  {
   "cell_type": "code",
   "execution_count": null,
   "metadata": {},
   "outputs": [],
   "source": [
    "accuracy, precision, recall = test_model(Classifier(random_state=501, \n",
    "                                                    classifier=RandomForestClassifier(n_estimators=100), \n",
    "                                                    classifier_train_part=0.2), folds)\n",
    "print(\"precision:\", format(np.mean(precision), '.3f'))\n",
    "print(\"recall:\", format(np.mean(recall), '.3f'))\n",
    "print(\"accuracy:\", format(np.mean(accuracy), '.3f'))"
   ]
  },
  {
   "cell_type": "code",
   "execution_count": 175,
   "metadata": {},
   "outputs": [
    {
     "name": "stdout",
     "output_type": "stream",
     "text": [
      "precision: 0.821\n",
      "recall: 0.918\n",
      "accuracy: 0.816\n"
     ]
    }
   ],
   "source": [
    "accuracy, precision, recall = test_model(Classifier(random_state=501, \n",
    "                                                    classifier=LogisticRegression(solver='lbfgs', \n",
    "                                                                                  max_iter=300), \n",
    "                                                    classifier_train_part=0.2), folds)\n",
    "print(\"precision:\", format(np.mean(precision), '.3f'))\n",
    "print(\"recall:\", format(np.mean(recall), '.3f'))\n",
    "print(\"accuracy:\", format(np.mean(accuracy), '.3f'))"
   ]
  },
  {
   "cell_type": "markdown",
   "metadata": {},
   "source": [
    "Как видно, удалось с помощью внутреннего классификатора на признаках на основе генератора получить точность порядка 91%. \n",
    "\n",
    "Для улучшения имеет смысл попытаться сделать ансамбль внутренних классификаторов на нескольких разбиениях обучающей выборки, так как сейчас классификатор учится на достаточно малом числе примеров из-за необходимости оставлять обширную выборку для получения признаков"
   ]
  },
  {
   "cell_type": "code",
   "execution_count": null,
   "metadata": {},
   "outputs": [],
   "source": []
  }
 ],
 "metadata": {
  "kernelspec": {
   "display_name": "Python 3",
   "language": "python",
   "name": "python3"
  },
  "language_info": {
   "codemirror_mode": {
    "name": "ipython",
    "version": 3
   },
   "file_extension": ".py",
   "mimetype": "text/x-python",
   "name": "python",
   "nbconvert_exporter": "python",
   "pygments_lexer": "ipython3",
   "version": "3.7.1"
  }
 },
 "nbformat": 4,
 "nbformat_minor": 2
}
